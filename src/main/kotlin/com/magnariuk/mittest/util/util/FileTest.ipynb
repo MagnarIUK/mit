{
 "cells": [
  {
   "cell_type": "code",
   "metadata": {
    "collapsed": true,
    "ExecuteTime": {
     "end_time": "2024-11-06T14:16:06.185835Z",
     "start_time": "2024-11-06T14:16:05.680424100Z"
    }
   },
   "source": [
    "import java.io.File\n",
    "import java.io.InputStream\n",
    "import java.nio.file.Files\n",
    "import java.nio.file.Path\n",
    "import java.util.zip.ZipEntry\n",
    "import java.util.zip.ZipInputStream\n",
    "\n",
    "val filesString = \"D:\\\\Projects\\\\Java\\\\src\\\\main\\\\kotlin\\\\org\\\\magnariuk\\\\modpackupdater\\\\HelloApplication.zip\"\n",
    "\n",
    "val zipFileInputStream = File(filesString).inputStream()\n",
    "\n",
    "fun unzipArchive(zipInputStream: InputStream, outputDir: String): MutableMap<String, File> {\n",
    "    val files: MutableMap<String, File> = mutableMapOf()\n",
    "    val zipStream = ZipInputStream(zipInputStream)\n",
    "    var entry: ZipEntry? = zipStream.nextEntry\n",
    "\n",
    "    while (entry != null) {\n",
    "        val filePath = Path.of(outputDir, entry.name)\n",
    "        val file = filePath.toFile()\n",
    "        \n",
    "        if (entry.isDirectory) {\n",
    "            \n",
    "            Files.createDirectories(filePath)\n",
    "        } else {\n",
    "            \n",
    "            Files.createDirectories(filePath.parent)\n",
    "\n",
    "            Files.newOutputStream(filePath).use { outputStream ->\n",
    "                zipStream.copyTo(outputStream)\n",
    "            }\n",
    "            files[entry.name] = file\n",
    "        }\n",
    "\n",
    "        zipStream.closeEntry()\n",
    "        entry = zipStream.nextEntry\n",
    "    }\n",
    "\n",
    "    zipStream.close()\n",
    "    println(\"Архів успішно розпаковано до: $outputDir\")\n",
    "    return files\n",
    "}\n",
    "\n",
    "println(unzipArchive(zipFileInputStream, \"output/test1\"))\n",
    "\n",
    "\n",
    "\n"
   ],
   "outputs": [
    {
     "name": "stdout",
     "output_type": "stream",
     "text": [
      "Архів успішно розпаковано до: output/test1\r\n",
      "[output\\test1\\data\\api\\ModrinthAPI.kt, output\\test1\\data\\api\\MojangAPI.kt, output\\test1\\data\\classes\\Cache.kt, output\\test1\\data\\classes\\FabricMod.kt, output\\test1\\data\\classes\\ModrinthProfile.kt, output\\test1\\data\\classes\\VersionManifest.kt, output\\test1\\data\\local\\CacheController.kt, output\\test1\\data\\local\\FolderParceAPI.kt, output\\test1\\data\\local\\ModrinthProfileController.kt, output\\test1\\HelloApplication.kt, output\\test1\\HelloController.kt]\r\n"
     ]
    }
   ],
   "execution_count": 2
  },
  {
   "metadata": {},
   "cell_type": "code",
   "outputs": [],
   "execution_count": null,
   "source": ""
  },
  {
   "metadata": {},
   "cell_type": "markdown",
   "source": ""
  }
 ],
 "metadata": {
  "kernelspec": {
   "display_name": "Kotlin",
   "language": "kotlin",
   "name": "kotlin"
  },
  "language_info": {
   "name": "kotlin",
   "version": "1.9.23",
   "mimetype": "text/x-kotlin",
   "file_extension": ".kt",
   "pygments_lexer": "kotlin",
   "codemirror_mode": "text/x-kotlin",
   "nbconvert_exporter": ""
  }
 },
 "nbformat": 4,
 "nbformat_minor": 0
}
